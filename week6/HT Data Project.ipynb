{
 "cells": [
  {
   "cell_type": "markdown",
   "metadata": {},
   "source": [
    "# This is a heading!"
   ]
  },
  {
   "cell_type": "code",
   "execution_count": 1,
   "metadata": {
    "collapsed": false,
    "deletable": true,
    "editable": true
   },
   "outputs": [],
   "source": [
    "import matplotlib\n",
    "import matplotlib.pyplot as plt\n",
    "import numpy as np\n",
    "import pandas as pd\n",
    "import os"
   ]
  },
  {
   "cell_type": "code",
   "execution_count": 2,
   "metadata": {
    "collapsed": true
   },
   "outputs": [],
   "source": [
    "%matplotlib inline\n",
    "plt.rcParams['figure.figsize'] = (20, 10)"
   ]
  },
  {
   "cell_type": "code",
   "execution_count": 3,
   "metadata": {
    "collapsed": false
   },
   "outputs": [
    {
     "name": "stdout",
     "output_type": "stream",
     "text": [
      "Loading from file\n",
      "done\n"
     ]
    }
   ],
   "source": [
    "filepath = \"Train_MonthlyTrips_CardType_Line_toFeb17.csv\"\n",
    "print \"Loading from file\"\n",
    "\n",
    "opal_data = pd.read_csv(filepath)\n",
    "print \"done\""
   ]
  },
  {
   "cell_type": "code",
   "execution_count": 4,
   "metadata": {
    "collapsed": false
   },
   "outputs": [
    {
     "data": {
      "text/html": [
       "<div>\n",
       "<table border=\"1\" class=\"dataframe\">\n",
       "  <thead>\n",
       "    <tr style=\"text-align: right;\">\n",
       "      <th></th>\n",
       "      <th>Unnamed: 0</th>\n",
       "      <th>Unnamed: 1</th>\n",
       "      <th>Jul-16</th>\n",
       "      <th>Aug-16</th>\n",
       "      <th>Sep-16</th>\n",
       "      <th>Oct-16</th>\n",
       "      <th>Nov-16</th>\n",
       "      <th>Dec-16</th>\n",
       "      <th>Jan-17</th>\n",
       "      <th>Feb-17</th>\n",
       "    </tr>\n",
       "  </thead>\n",
       "  <tbody>\n",
       "    <tr>\n",
       "      <th>0</th>\n",
       "      <td>T1 North Shore, Northern and Western Line</td>\n",
       "      <td>Adult</td>\n",
       "      <td>8,375,611</td>\n",
       "      <td>9,482,280</td>\n",
       "      <td>8,953,427</td>\n",
       "      <td>8,775,454</td>\n",
       "      <td>9,219,217</td>\n",
       "      <td>8,032,385</td>\n",
       "      <td>7,772,657</td>\n",
       "      <td>8,441,294</td>\n",
       "    </tr>\n",
       "    <tr>\n",
       "      <th>1</th>\n",
       "      <td>T1 North Shore, Northern and Western Line</td>\n",
       "      <td>Child/Youth</td>\n",
       "      <td>431,728</td>\n",
       "      <td>369,949</td>\n",
       "      <td>424,461</td>\n",
       "      <td>437,453</td>\n",
       "      <td>403,574</td>\n",
       "      <td>504,498</td>\n",
       "      <td>551,259</td>\n",
       "      <td>393,036</td>\n",
       "    </tr>\n",
       "    <tr>\n",
       "      <th>2</th>\n",
       "      <td>T1 North Shore, Northern and Western Line</td>\n",
       "      <td>Concession</td>\n",
       "      <td>621,821</td>\n",
       "      <td>1,081,357</td>\n",
       "      <td>855,496</td>\n",
       "      <td>839,388</td>\n",
       "      <td>677,802</td>\n",
       "      <td>524,636</td>\n",
       "      <td>488,438</td>\n",
       "      <td>606,851</td>\n",
       "    </tr>\n",
       "    <tr>\n",
       "      <th>3</th>\n",
       "      <td>T1 North Shore, Northern and Western Line</td>\n",
       "      <td>Employee</td>\n",
       "      <td>106,051</td>\n",
       "      <td>125,604</td>\n",
       "      <td>123,873</td>\n",
       "      <td>117,316</td>\n",
       "      <td>129,469</td>\n",
       "      <td>115,581</td>\n",
       "      <td>97,400</td>\n",
       "      <td>109,882</td>\n",
       "    </tr>\n",
       "    <tr>\n",
       "      <th>4</th>\n",
       "      <td>T1 North Shore, Northern and Western Line</td>\n",
       "      <td>Free Travel</td>\n",
       "      <td>9,629</td>\n",
       "      <td>11,668</td>\n",
       "      <td>11,463</td>\n",
       "      <td>11,957</td>\n",
       "      <td>12,852</td>\n",
       "      <td>11,117</td>\n",
       "      <td>9,935</td>\n",
       "      <td>11,361</td>\n",
       "    </tr>\n",
       "  </tbody>\n",
       "</table>\n",
       "</div>"
      ],
      "text/plain": [
       "                                  Unnamed: 0   Unnamed: 1     Jul-16  \\\n",
       "0  T1 North Shore, Northern and Western Line        Adult  8,375,611   \n",
       "1  T1 North Shore, Northern and Western Line  Child/Youth    431,728   \n",
       "2  T1 North Shore, Northern and Western Line   Concession    621,821   \n",
       "3  T1 North Shore, Northern and Western Line     Employee    106,051   \n",
       "4  T1 North Shore, Northern and Western Line  Free Travel      9,629   \n",
       "\n",
       "      Aug-16     Sep-16     Oct-16     Nov-16     Dec-16     Jan-17     Feb-17  \n",
       "0  9,482,280  8,953,427  8,775,454  9,219,217  8,032,385  7,772,657  8,441,294  \n",
       "1    369,949    424,461    437,453    403,574    504,498    551,259    393,036  \n",
       "2  1,081,357    855,496    839,388    677,802    524,636    488,438    606,851  \n",
       "3    125,604    123,873    117,316    129,469    115,581     97,400    109,882  \n",
       "4     11,668     11,463     11,957     12,852     11,117      9,935     11,361  "
      ]
     },
     "execution_count": 4,
     "metadata": {},
     "output_type": "execute_result"
    }
   ],
   "source": [
    "opal_data.head()"
   ]
  },
  {
   "cell_type": "code",
   "execution_count": 5,
   "metadata": {
    "collapsed": false
   },
   "outputs": [
    {
     "data": {
      "text/plain": [
       "Index([u'Unnamed: 0', u'Unnamed: 1', u'Jul-16', u'Aug-16', u'Sep-16',\n",
       "       u'Oct-16', u'Nov-16', u'Dec-16', u'Jan-17', u'Feb-17'],\n",
       "      dtype='object')"
      ]
     },
     "execution_count": 5,
     "metadata": {},
     "output_type": "execute_result"
    }
   ],
   "source": [
    "opal_data.columns"
   ]
  },
  {
   "cell_type": "code",
   "execution_count": 6,
   "metadata": {
    "collapsed": false
   },
   "outputs": [
    {
     "data": {
      "text/plain": [
       "Unnamed: 0    T1 North Shore, Northern and Western Line\n",
       "Unnamed: 1                                  Child/Youth\n",
       "Jul-16                                          431,728\n",
       "Aug-16                                          369,949\n",
       "Sep-16                                          424,461\n",
       "Oct-16                                          437,453\n",
       "Nov-16                                          403,574\n",
       "Dec-16                                          504,498\n",
       "Jan-17                                          551,259\n",
       "Feb-17                                          393,036\n",
       "Name: 1, dtype: object"
      ]
     },
     "execution_count": 6,
     "metadata": {},
     "output_type": "execute_result"
    }
   ],
   "source": [
    "row_one = opal_data.iloc[1]\n",
    "row_one"
   ]
  },
  {
   "cell_type": "code",
   "execution_count": 7,
   "metadata": {
    "collapsed": false
   },
   "outputs": [],
   "source": [
    "def to_actually_a_number(stringy_number):\n",
    "    try:\n",
    "        return int(stringy_number.replace(\",\",\"\"))\n",
    "    except:\n",
    "        return np.nan"
   ]
  },
  {
   "cell_type": "code",
   "execution_count": 8,
   "metadata": {
    "collapsed": false
   },
   "outputs": [],
   "source": [
    "opal_data[\"Jul-16\"] = opal_data[\"Jul-16\"].apply(to_actually_a_number)\n",
    "opal_data[\"Aug-16\"] = opal_data[\"Aug-16\"].apply(to_actually_a_number)\n",
    "opal_data[\"Sep-16\"] = opal_data[\"Sep-16\"].apply(to_actually_a_number)\n",
    "opal_data[\"Oct-16\"] = opal_data[\"Oct-16\"].apply(to_actually_a_number)"
   ]
  },
  {
   "cell_type": "code",
   "execution_count": 12,
   "metadata": {
    "collapsed": false
   },
   "outputs": [
    {
     "data": {
      "text/html": [
       "<div>\n",
       "<table border=\"1\" class=\"dataframe\">\n",
       "  <thead>\n",
       "    <tr style=\"text-align: right;\">\n",
       "      <th></th>\n",
       "      <th>Unnamed: 0</th>\n",
       "      <th>Unnamed: 1</th>\n",
       "      <th>Jul-16</th>\n",
       "      <th>Aug-16</th>\n",
       "      <th>Sep-16</th>\n",
       "      <th>Oct-16</th>\n",
       "      <th>Nov-16</th>\n",
       "      <th>Dec-16</th>\n",
       "      <th>Jan-17</th>\n",
       "      <th>Feb-17</th>\n",
       "    </tr>\n",
       "  </thead>\n",
       "  <tbody>\n",
       "    <tr>\n",
       "      <th>101</th>\n",
       "      <td>Southern Highlands Line</td>\n",
       "      <td>Concession</td>\n",
       "      <td>5202.0</td>\n",
       "      <td>7955.0</td>\n",
       "      <td>6130.0</td>\n",
       "      <td>6233.0</td>\n",
       "      <td>4,658</td>\n",
       "      <td>3,361</td>\n",
       "      <td>2,995</td>\n",
       "      <td>4,306</td>\n",
       "    </tr>\n",
       "    <tr>\n",
       "      <th>102</th>\n",
       "      <td>Southern Highlands Line</td>\n",
       "      <td>Employee</td>\n",
       "      <td>895.0</td>\n",
       "      <td>915.0</td>\n",
       "      <td>950.0</td>\n",
       "      <td>849.0</td>\n",
       "      <td>926</td>\n",
       "      <td>882</td>\n",
       "      <td>843</td>\n",
       "      <td>872</td>\n",
       "    </tr>\n",
       "    <tr>\n",
       "      <th>103</th>\n",
       "      <td>Southern Highlands Line</td>\n",
       "      <td>Free Travel</td>\n",
       "      <td>180.0</td>\n",
       "      <td>178.0</td>\n",
       "      <td>236.0</td>\n",
       "      <td>214.0</td>\n",
       "      <td>220</td>\n",
       "      <td>159</td>\n",
       "      <td>201</td>\n",
       "      <td>197</td>\n",
       "    </tr>\n",
       "    <tr>\n",
       "      <th>104</th>\n",
       "      <td>Southern Highlands Line</td>\n",
       "      <td>School Student</td>\n",
       "      <td>792.0</td>\n",
       "      <td>2001.0</td>\n",
       "      <td>1526.0</td>\n",
       "      <td>1347.0</td>\n",
       "      <td>1,758</td>\n",
       "      <td>645</td>\n",
       "      <td>110</td>\n",
       "      <td>1,775</td>\n",
       "    </tr>\n",
       "    <tr>\n",
       "      <th>105</th>\n",
       "      <td>Southern Highlands Line</td>\n",
       "      <td>Senior/Pensioner</td>\n",
       "      <td>16132.0</td>\n",
       "      <td>17301.0</td>\n",
       "      <td>20765.0</td>\n",
       "      <td>18832.0</td>\n",
       "      <td>18,968</td>\n",
       "      <td>17,671</td>\n",
       "      <td>16,559</td>\n",
       "      <td>16,960</td>\n",
       "    </tr>\n",
       "    <tr>\n",
       "      <th>106</th>\n",
       "      <td>Southern Highlands Line</td>\n",
       "      <td>Sgl Trip Rail Adult</td>\n",
       "      <td>90.0</td>\n",
       "      <td>607.0</td>\n",
       "      <td>582.0</td>\n",
       "      <td>612.0</td>\n",
       "      <td>582</td>\n",
       "      <td>475</td>\n",
       "      <td>634</td>\n",
       "      <td>482</td>\n",
       "    </tr>\n",
       "    <tr>\n",
       "      <th>107</th>\n",
       "      <td>Southern Highlands Line</td>\n",
       "      <td>Sgl Trip Rail Child/Youth</td>\n",
       "      <td>47.0</td>\n",
       "      <td>127.0</td>\n",
       "      <td>236.0</td>\n",
       "      <td>179.0</td>\n",
       "      <td>117</td>\n",
       "      <td>168</td>\n",
       "      <td>275</td>\n",
       "      <td>93</td>\n",
       "    </tr>\n",
       "    <tr>\n",
       "      <th>108</th>\n",
       "      <td>Grand Total</td>\n",
       "      <td>Total</td>\n",
       "      <td>27614223.0</td>\n",
       "      <td>32415455.0</td>\n",
       "      <td>30661024.0</td>\n",
       "      <td>30113314.0</td>\n",
       "      <td>31,332,512</td>\n",
       "      <td>28,019,004</td>\n",
       "      <td>26,720,739</td>\n",
       "      <td>28,732,990</td>\n",
       "    </tr>\n",
       "    <tr>\n",
       "      <th>109</th>\n",
       "      <td>&lt;?xml version=\"1.0\" encoding=\"utf-8\"?&gt;</td>\n",
       "      <td>NaN</td>\n",
       "      <td>NaN</td>\n",
       "      <td>NaN</td>\n",
       "      <td>NaN</td>\n",
       "      <td>NaN</td>\n",
       "      <td>NaN</td>\n",
       "      <td>NaN</td>\n",
       "      <td>NaN</td>\n",
       "      <td>NaN</td>\n",
       "    </tr>\n",
       "    <tr>\n",
       "      <th>110</th>\n",
       "      <td>&lt;result&gt;DownloadedTrain_MonthlyTrips_CardType_...</td>\n",
       "      <td>NaN</td>\n",
       "      <td>NaN</td>\n",
       "      <td>NaN</td>\n",
       "      <td>NaN</td>\n",
       "      <td>NaN</td>\n",
       "      <td>NaN</td>\n",
       "      <td>NaN</td>\n",
       "      <td>NaN</td>\n",
       "      <td>NaN</td>\n",
       "    </tr>\n",
       "  </tbody>\n",
       "</table>\n",
       "</div>"
      ],
      "text/plain": [
       "                                            Unnamed: 0  \\\n",
       "101                            Southern Highlands Line   \n",
       "102                            Southern Highlands Line   \n",
       "103                            Southern Highlands Line   \n",
       "104                            Southern Highlands Line   \n",
       "105                            Southern Highlands Line   \n",
       "106                            Southern Highlands Line   \n",
       "107                            Southern Highlands Line   \n",
       "108                                        Grand Total   \n",
       "109             <?xml version=\"1.0\" encoding=\"utf-8\"?>   \n",
       "110  <result>DownloadedTrain_MonthlyTrips_CardType_...   \n",
       "\n",
       "                    Unnamed: 1      Jul-16      Aug-16      Sep-16  \\\n",
       "101                 Concession      5202.0      7955.0      6130.0   \n",
       "102                   Employee       895.0       915.0       950.0   \n",
       "103                Free Travel       180.0       178.0       236.0   \n",
       "104             School Student       792.0      2001.0      1526.0   \n",
       "105           Senior/Pensioner     16132.0     17301.0     20765.0   \n",
       "106        Sgl Trip Rail Adult        90.0       607.0       582.0   \n",
       "107  Sgl Trip Rail Child/Youth        47.0       127.0       236.0   \n",
       "108                      Total  27614223.0  32415455.0  30661024.0   \n",
       "109                        NaN         NaN         NaN         NaN   \n",
       "110                        NaN         NaN         NaN         NaN   \n",
       "\n",
       "         Oct-16      Nov-16      Dec-16      Jan-17      Feb-17  \n",
       "101      6233.0       4,658       3,361       2,995       4,306  \n",
       "102       849.0         926         882         843         872  \n",
       "103       214.0         220         159         201         197  \n",
       "104      1347.0       1,758         645         110       1,775  \n",
       "105     18832.0      18,968      17,671      16,559      16,960  \n",
       "106       612.0         582         475         634         482  \n",
       "107       179.0         117         168         275          93  \n",
       "108  30113314.0  31,332,512  28,019,004  26,720,739  28,732,990  \n",
       "109         NaN         NaN         NaN         NaN         NaN  \n",
       "110         NaN         NaN         NaN         NaN         NaN  "
      ]
     },
     "execution_count": 12,
     "metadata": {},
     "output_type": "execute_result"
    }
   ],
   "source": [
    "opal_data.tail(10)"
   ]
  },
  {
   "cell_type": "code",
   "execution_count": 15,
   "metadata": {
    "collapsed": false
   },
   "outputs": [
    {
     "data": {
      "text/plain": [
       "<matplotlib.axes._subplots.AxesSubplot at 0x7f4b519a9f50>"
      ]
     },
     "execution_count": 15,
     "metadata": {},
     "output_type": "execute_result"
    },
    {
     "data": {
      "image/png": "[encoded data removed]",
      "text/plain": [
       "<matplotlib.figure.Figure at 0x7f4b519bf990>"
      ]
     },
     "metadata": {},
     "output_type": "display_data"
    }
   ],
   "source": [
    "opal_data[\"Jul-16\"].plot.bar()\n",
    "opal_data[\"Aug-16\"].plot.bar()"
   ]
  }
 ],
 "metadata": {
  "kernelspec": {
   "display_name": "Python 2",
   "language": "python",
   "name": "python2"
  },
  "language_info": {
   "codemirror_mode": {
    "name": "ipython",
    "version": 2
   },
   "file_extension": ".py",
   "mimetype": "text/x-python",
   "name": "python",
   "nbconvert_exporter": "python",
   "pygments_lexer": "ipython2",
   "version": "2.7.12"
  }
 },
 "nbformat": 4,
 "nbformat_minor": 2
}
